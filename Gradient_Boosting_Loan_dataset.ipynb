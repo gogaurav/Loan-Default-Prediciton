{
 "cells": [
  {
   "cell_type": "code",
   "execution_count": 1,
   "metadata": {},
   "outputs": [],
   "source": [
    "import numpy as np\n",
    "import pandas as pd\n",
    "import matplotlib.pyplot as plt\n",
    "\n",
    "from sklearn.ensemble import GradientBoostingClassifier\n",
    "from sklearn.metrics import accuracy_score, precision_score, recall_score\n",
    "from sklearn.model_selection import GridSearchCV\n",
    "\n",
    "import time\n",
    "# Author: Gourang Gaurav\n",
    "%matplotlib inline"
   ]
  },
  {
   "cell_type": "code",
   "execution_count": 2,
   "metadata": {},
   "outputs": [],
   "source": [
    "pd.options.mode.chained_assignment = None\n",
    "pd.set_option('display.max_columns', 200)"
   ]
  },
  {
   "cell_type": "markdown",
   "metadata": {},
   "source": [
    "Preprocessing:"
   ]
  },
  {
   "cell_type": "code",
   "execution_count": 3,
   "metadata": {},
   "outputs": [],
   "source": [
    "def get_one_hot_encoding(X_train, X_test):\n",
    "    x_train_no_recs = len(X_train.index)\n",
    "    \n",
    "    X_temp = pd.concat([X_train, X_test])\n",
    "    X_temp = pd.get_dummies(X_temp)\n",
    "    \n",
    "    X_train = X_temp.iloc[:x_train_no_recs,:]\n",
    "    X_test = X_temp.iloc[x_train_no_recs:,:]\n",
    "    \n",
    "    return X_train, X_test"
   ]
  },
  {
   "cell_type": "code",
   "execution_count": 4,
   "metadata": {},
   "outputs": [],
   "source": [
    "def woe_iv_categor(X, y):\n",
    "    df1 = pd.DataFrame({'X':X, 'y':y})\n",
    "    df1_grp = df1.groupby('X')\n",
    "    tot_event_cnt = df1['y'].sum()\n",
    "    grp_len = df1_grp['y'].count()\n",
    "    grp_sum = df1_grp['y'].sum()\n",
    "    df2= pd.DataFrame()\n",
    "    df2['Event_prcnt'] = grp_sum/ grp_len\n",
    "    df2['Non_Event_prcnt'] = (grp_len - grp_sum) / grp_len\n",
    "    df2['Event_prcnt_sum'] = grp_sum/ tot_event_cnt \n",
    "    df2['Non_Event_prcnt_sum'] = (grp_len - grp_sum)/ (len(df1.index) - tot_event_cnt)\n",
    "    df2['event_div_nonevent'] = df2['Event_prcnt_sum']/ df2['Non_Event_prcnt_sum']\n",
    "    idx_greater_zero = df2['event_div_nonevent']>0\n",
    "    df2['WoE'] = 0.0\n",
    "    df2.loc[idx_greater_zero, 'WoE'] = np.log(df2.loc[idx_greater_zero, 'event_div_nonevent'])\n",
    "    df2['IV'] = (df2['Event_prcnt_sum']-df2['Non_Event_prcnt_sum']) * df2['WoE']\n",
    "    df2.replace([np.inf, -np.inf], 0, inplace=True)\n",
    "    return df2['WoE'], df2['IV'].sum()"
   ]
  },
  {
   "cell_type": "code",
   "execution_count": 5,
   "metadata": {},
   "outputs": [],
   "source": [
    "def drop_train_cols(x):\n",
    "    x.dropna(axis=1, how='all', inplace=True)\n",
    "    nuniques = x.nunique()  # columns with 1 unique value had very few NA values; so removed here the nunique arg dropna=False\n",
    "    x.drop(columns=nuniques[nuniques==1].index, inplace=True)\n",
    "    x.drop(columns=['id', 'member_id', 'url', 'emp_title', 'next_pymnt_d',\n",
    "                    'last_pymnt_d', 'last_credit_pull_d', 'issue_d',\n",
    "                    'earliest_cr_line', 'desc', 'title'], inplace=True)\n",
    "    return x"
   ]
  },
  {
   "cell_type": "code",
   "execution_count": 6,
   "metadata": {},
   "outputs": [],
   "source": [
    "def preprocess(x, train_flag, train_stats=None):\n",
    "    # 90% 'mths_since_last_record' values are missing, so, making it binary to show if the cust has any public record  \n",
    "    x['mths_since_last_record'] = x['mths_since_last_record'].apply(lambda x: 0\n",
    "                                                                    if np.isnan(x)\n",
    "                                                                    else 1)\n",
    "    x['mths_since_last_delinq'].fillna(1000, inplace=True)  # filling with 1000 to show that there was no delinquence\n",
    "    x['int_rate'] = x['int_rate'].str[:-1].astype(float)\n",
    "    x['revol_util'] = x['revol_util'].str[:-1].astype(float)\n",
    "    \n",
    "    if train_flag:\n",
    "        train_stats = dict()\n",
    "        train_stats['emp_len_most_freq'] = x['emp_length'].value_counts(dropna=False).index[0]\n",
    "        rare_purpose_vals = x['purpose'].value_counts()\n",
    "        train_stats['rare_prupose_vals'] = rare_purpose_vals[rare_purpose_vals <= 225].index\n",
    "        rare_addr_state = x['addr_state'].value_counts()\n",
    "        train_stats['rare_addr_state'] = rare_addr_state[rare_addr_state <= 31].index\n",
    "        rare_zip_codes = x['zip_code'].value_counts(normalize=True)\n",
    "        train_stats['rare_zip_codes'] = rare_zip_codes[rare_zip_codes < 0.00005].index\n",
    "        train_stats['pub_rec_bank_med'] = x['pub_rec_bankruptcies'].median()\n",
    "        train_stats['revol_util_med'] = x['revol_util'].median()\n",
    "    \n",
    "    # grouping rare values (being in less than 5% of training examples) as 1 category rare\n",
    "    x.loc[x['addr_state'].isin(train_stats['rare_addr_state']), 'addr_state'] = 'rare_state'\n",
    "    x.loc[x['purpose'].isin(train_stats['rare_prupose_vals']), 'purpose'] = 'rare_purpose' #  less than 1% of the data and similar class percentage\n",
    "    x.loc[x['zip_code'].isin(train_stats['rare_zip_codes']), 'zip_code'] = 'rare_zip_code'\n",
    "    \n",
    "    x['pub_rec_bankruptcies'].fillna(train_stats['pub_rec_bank_med'], inplace=True)\n",
    "    x['revol_util'].fillna(train_stats['revol_util_med'], inplace=True)\n",
    "    \n",
    "    # making emp_length as an orinal column as there is a clear order in it\n",
    "    x['emp_length'].fillna(train_stats['emp_len_most_freq'], inplace=True)\n",
    "    emp_length_cat = pd.Categorical(x['emp_length'], \n",
    "                                    categories=['< 1 year', '1 year', '2 years',\n",
    "                                                '3 years', '4 years', '5 years',\n",
    "                                                '6 years', '7 years', '8 years',\n",
    "                                                '9 years', '10+ years'], \n",
    "                                    ordered=True)\n",
    "    emp_length_cat, _ = pd.factorize(emp_length_cat, sort=True)\n",
    "    x['emp_length'] = emp_length_cat\n",
    "    \n",
    "    x['term'].replace({' 36 months': 36, ' 60 months': 60},  inplace=True)\n",
    "    \n",
    "    # subgrades of E, F and G affected lot of fluctuations in the % of target belonging to their group\n",
    "    # So, including them in the grade column itself and then dropping subgrde\n",
    "    x['grade'] = np.where(x['grade'].isin(['E', 'F', 'G']),\n",
    "                          x['sub_grade'], x['grade'])\n",
    "    x.drop(columns='sub_grade', inplace=True)   \n",
    "    \n",
    "    return x, train_stats\n",
    "    "
   ]
  },
  {
   "cell_type": "code",
   "execution_count": 7,
   "metadata": {},
   "outputs": [],
   "source": [
    "train_df = pd.read_csv('loan_train.csv')\n",
    "test_df = pd.read_csv('loan_test.csv')\n",
    "\n",
    "# doing preprocessing with all the training examples including 'Current' loan status records for more correct mean/ median\n",
    "\n",
    "train_df = drop_train_cols(train_df)\n",
    "test_df = test_df[train_df.columns]\n",
    "\n",
    "train_df, train_stats = preprocess(train_df, train_flag=True)\n",
    "test_df, _ = preprocess(test_df, train_flag=False, train_stats=train_stats)\n",
    "\n",
    "# removing records with 'Current' laon status as that would not be required in the model\n",
    "train_df = train_df[train_df['loan_status'].isin(['Fully Paid', 'Charged Off'])]\n",
    "y_train = train_df['loan_status'].apply(lambda x: 1 if x=='Fully Paid' else 0)\n",
    "train_df.drop(columns='loan_status', inplace=True)\n",
    "# # +ve, fully paid samples 0.8570429200444426\n",
    "\n",
    "test_df = test_df[test_df['loan_status'].isin(['Fully Paid', 'Charged Off'])]\n",
    "y_test = test_df['loan_status'].apply(lambda x: 1 if x=='Fully Paid' else 0)\n",
    "test_df.drop(columns='loan_status', inplace=True)\n",
    "\n",
    "# getting the zipcodes and state in test data which are not present in the training set\n",
    "train_set_zipcode = set(train_df['zip_code'].unique()) \n",
    "test_set_zipcode = set(test_df['zip_code'].unique())\n",
    "zipcode_not_in_train = test_set_zipcode - train_set_zipcode\n",
    "test_df.loc[test_df['zip_code'].isin(zipcode_not_in_train), 'zip_code'] = 'rare_zip_code'\n",
    "\n",
    "train_set_state = set(train_df['addr_state'].unique()) \n",
    "test_set_state = set(test_df['addr_state'].unique())\n",
    "state_not_in_train = test_set_state - train_set_state\n",
    "test_df.loc[test_df['addr_state'].isin(state_not_in_train), 'addr_state'] = 'rare_state'\n",
    "\n",
    "# as zipcode and state are high dimensional categorical fields, using weight of evidence values\n",
    "# to convert into meaningful numbers with increasing the dimension of the data\n",
    "woe_zip, inf_val_zip = woe_iv_categor(train_df['zip_code'], y_train)\n",
    "if inf_val_zip>=0.02 and inf_val_zip <=0.5: # col has good predictive value\n",
    "    train_df['zip_code'].replace(woe_zip.index, woe_zip.values, inplace=True)\n",
    "    test_df['zip_code'].replace(woe_zip.index, woe_zip.values, inplace=True)\n",
    "\n",
    "woe_state, inf_val_state = woe_iv_categor(train_df['addr_state'], y_train)\n",
    "if inf_val_state>=0.02 and inf_val_state <=0.5: # col has good predictive value\n",
    "    train_df['addr_state'].replace(woe_state.index, woe_state.values, inplace=True)\n",
    "    test_df['addr_state'].replace(woe_state.index, woe_state.values, inplace=True)\n",
    "\n",
    "train_df, test_df = get_one_hot_encoding(train_df, test_df)"
   ]
  },
  {
   "cell_type": "code",
   "execution_count": 8,
   "metadata": {},
   "outputs": [
    {
     "data": {
      "text/html": [
       "<div>\n",
       "<style scoped>\n",
       "    .dataframe tbody tr th:only-of-type {\n",
       "        vertical-align: middle;\n",
       "    }\n",
       "\n",
       "    .dataframe tbody tr th {\n",
       "        vertical-align: top;\n",
       "    }\n",
       "\n",
       "    .dataframe thead th {\n",
       "        text-align: right;\n",
       "    }\n",
       "</style>\n",
       "<table border=\"1\" class=\"dataframe\">\n",
       "  <thead>\n",
       "    <tr style=\"text-align: right;\">\n",
       "      <th></th>\n",
       "      <th>loan_amnt</th>\n",
       "      <th>funded_amnt</th>\n",
       "      <th>funded_amnt_inv</th>\n",
       "      <th>term</th>\n",
       "      <th>int_rate</th>\n",
       "      <th>installment</th>\n",
       "      <th>emp_length</th>\n",
       "      <th>annual_inc</th>\n",
       "      <th>zip_code</th>\n",
       "      <th>addr_state</th>\n",
       "      <th>dti</th>\n",
       "      <th>delinq_2yrs</th>\n",
       "      <th>inq_last_6mths</th>\n",
       "      <th>mths_since_last_delinq</th>\n",
       "      <th>mths_since_last_record</th>\n",
       "      <th>open_acc</th>\n",
       "      <th>pub_rec</th>\n",
       "      <th>revol_bal</th>\n",
       "      <th>revol_util</th>\n",
       "      <th>total_acc</th>\n",
       "      <th>out_prncp</th>\n",
       "      <th>out_prncp_inv</th>\n",
       "      <th>total_pymnt</th>\n",
       "      <th>total_pymnt_inv</th>\n",
       "      <th>total_rec_prncp</th>\n",
       "      <th>total_rec_int</th>\n",
       "      <th>total_rec_late_fee</th>\n",
       "      <th>recoveries</th>\n",
       "      <th>collection_recovery_fee</th>\n",
       "      <th>last_pymnt_amnt</th>\n",
       "      <th>pub_rec_bankruptcies</th>\n",
       "      <th>grade_A</th>\n",
       "      <th>grade_B</th>\n",
       "      <th>grade_C</th>\n",
       "      <th>grade_D</th>\n",
       "      <th>grade_E1</th>\n",
       "      <th>grade_E2</th>\n",
       "      <th>grade_E3</th>\n",
       "      <th>grade_E4</th>\n",
       "      <th>grade_E5</th>\n",
       "      <th>grade_F1</th>\n",
       "      <th>grade_F2</th>\n",
       "      <th>grade_F3</th>\n",
       "      <th>grade_F4</th>\n",
       "      <th>grade_F5</th>\n",
       "      <th>grade_G1</th>\n",
       "      <th>grade_G2</th>\n",
       "      <th>grade_G3</th>\n",
       "      <th>grade_G4</th>\n",
       "      <th>grade_G5</th>\n",
       "      <th>home_ownership_MORTGAGE</th>\n",
       "      <th>home_ownership_NONE</th>\n",
       "      <th>home_ownership_OTHER</th>\n",
       "      <th>home_ownership_OWN</th>\n",
       "      <th>home_ownership_RENT</th>\n",
       "      <th>verification_status_Not Verified</th>\n",
       "      <th>verification_status_Source Verified</th>\n",
       "      <th>verification_status_Verified</th>\n",
       "      <th>purpose_car</th>\n",
       "      <th>purpose_credit_card</th>\n",
       "      <th>purpose_debt_consolidation</th>\n",
       "      <th>purpose_home_improvement</th>\n",
       "      <th>purpose_major_purchase</th>\n",
       "      <th>purpose_medical</th>\n",
       "      <th>purpose_moving</th>\n",
       "      <th>purpose_other</th>\n",
       "      <th>purpose_rare_purpose</th>\n",
       "      <th>purpose_small_business</th>\n",
       "      <th>purpose_vacation</th>\n",
       "      <th>purpose_wedding</th>\n",
       "    </tr>\n",
       "  </thead>\n",
       "  <tbody>\n",
       "    <tr>\n",
       "      <td>0</td>\n",
       "      <td>10000</td>\n",
       "      <td>10000</td>\n",
       "      <td>9950.0</td>\n",
       "      <td>36</td>\n",
       "      <td>7.51</td>\n",
       "      <td>311.11</td>\n",
       "      <td>10</td>\n",
       "      <td>30000.0</td>\n",
       "      <td>-0.125936</td>\n",
       "      <td>-0.153769</td>\n",
       "      <td>5.00</td>\n",
       "      <td>0</td>\n",
       "      <td>3</td>\n",
       "      <td>1000.0</td>\n",
       "      <td>0</td>\n",
       "      <td>19</td>\n",
       "      <td>0</td>\n",
       "      <td>1450</td>\n",
       "      <td>1.2</td>\n",
       "      <td>48</td>\n",
       "      <td>0.0</td>\n",
       "      <td>0.0</td>\n",
       "      <td>2247.210000</td>\n",
       "      <td>2235.98</td>\n",
       "      <td>1509.91</td>\n",
       "      <td>350.87</td>\n",
       "      <td>0.0</td>\n",
       "      <td>386.43</td>\n",
       "      <td>3.96</td>\n",
       "      <td>311.11</td>\n",
       "      <td>0.0</td>\n",
       "      <td>1</td>\n",
       "      <td>0</td>\n",
       "      <td>0</td>\n",
       "      <td>0</td>\n",
       "      <td>0</td>\n",
       "      <td>0</td>\n",
       "      <td>0</td>\n",
       "      <td>0</td>\n",
       "      <td>0</td>\n",
       "      <td>0</td>\n",
       "      <td>0</td>\n",
       "      <td>0</td>\n",
       "      <td>0</td>\n",
       "      <td>0</td>\n",
       "      <td>0</td>\n",
       "      <td>0</td>\n",
       "      <td>0</td>\n",
       "      <td>0</td>\n",
       "      <td>0</td>\n",
       "      <td>0</td>\n",
       "      <td>0</td>\n",
       "      <td>0</td>\n",
       "      <td>0</td>\n",
       "      <td>1</td>\n",
       "      <td>0</td>\n",
       "      <td>1</td>\n",
       "      <td>0</td>\n",
       "      <td>0</td>\n",
       "      <td>0</td>\n",
       "      <td>0</td>\n",
       "      <td>1</td>\n",
       "      <td>0</td>\n",
       "      <td>0</td>\n",
       "      <td>0</td>\n",
       "      <td>0</td>\n",
       "      <td>0</td>\n",
       "      <td>0</td>\n",
       "      <td>0</td>\n",
       "      <td>0</td>\n",
       "    </tr>\n",
       "    <tr>\n",
       "      <td>1</td>\n",
       "      <td>15000</td>\n",
       "      <td>15000</td>\n",
       "      <td>14800.0</td>\n",
       "      <td>36</td>\n",
       "      <td>8.94</td>\n",
       "      <td>476.58</td>\n",
       "      <td>1</td>\n",
       "      <td>147000.0</td>\n",
       "      <td>0.183137</td>\n",
       "      <td>-0.037545</td>\n",
       "      <td>3.47</td>\n",
       "      <td>0</td>\n",
       "      <td>0</td>\n",
       "      <td>1000.0</td>\n",
       "      <td>0</td>\n",
       "      <td>6</td>\n",
       "      <td>0</td>\n",
       "      <td>4910</td>\n",
       "      <td>14.0</td>\n",
       "      <td>17</td>\n",
       "      <td>0.0</td>\n",
       "      <td>0.0</td>\n",
       "      <td>15112.760000</td>\n",
       "      <td>14911.26</td>\n",
       "      <td>15000.00</td>\n",
       "      <td>112.76</td>\n",
       "      <td>0.0</td>\n",
       "      <td>0.00</td>\n",
       "      <td>0.00</td>\n",
       "      <td>15114.03</td>\n",
       "      <td>0.0</td>\n",
       "      <td>1</td>\n",
       "      <td>0</td>\n",
       "      <td>0</td>\n",
       "      <td>0</td>\n",
       "      <td>0</td>\n",
       "      <td>0</td>\n",
       "      <td>0</td>\n",
       "      <td>0</td>\n",
       "      <td>0</td>\n",
       "      <td>0</td>\n",
       "      <td>0</td>\n",
       "      <td>0</td>\n",
       "      <td>0</td>\n",
       "      <td>0</td>\n",
       "      <td>0</td>\n",
       "      <td>0</td>\n",
       "      <td>0</td>\n",
       "      <td>0</td>\n",
       "      <td>0</td>\n",
       "      <td>0</td>\n",
       "      <td>0</td>\n",
       "      <td>0</td>\n",
       "      <td>0</td>\n",
       "      <td>1</td>\n",
       "      <td>1</td>\n",
       "      <td>0</td>\n",
       "      <td>0</td>\n",
       "      <td>0</td>\n",
       "      <td>0</td>\n",
       "      <td>0</td>\n",
       "      <td>0</td>\n",
       "      <td>0</td>\n",
       "      <td>0</td>\n",
       "      <td>0</td>\n",
       "      <td>1</td>\n",
       "      <td>0</td>\n",
       "      <td>0</td>\n",
       "      <td>0</td>\n",
       "      <td>0</td>\n",
       "    </tr>\n",
       "    <tr>\n",
       "      <td>2</td>\n",
       "      <td>2000</td>\n",
       "      <td>2000</td>\n",
       "      <td>2000.0</td>\n",
       "      <td>36</td>\n",
       "      <td>13.57</td>\n",
       "      <td>67.94</td>\n",
       "      <td>4</td>\n",
       "      <td>36000.0</td>\n",
       "      <td>-0.404649</td>\n",
       "      <td>-0.037545</td>\n",
       "      <td>7.83</td>\n",
       "      <td>0</td>\n",
       "      <td>0</td>\n",
       "      <td>1000.0</td>\n",
       "      <td>0</td>\n",
       "      <td>8</td>\n",
       "      <td>0</td>\n",
       "      <td>1790</td>\n",
       "      <td>34.4</td>\n",
       "      <td>10</td>\n",
       "      <td>0.0</td>\n",
       "      <td>0.0</td>\n",
       "      <td>2354.966827</td>\n",
       "      <td>2354.97</td>\n",
       "      <td>2000.00</td>\n",
       "      <td>354.97</td>\n",
       "      <td>0.0</td>\n",
       "      <td>0.00</td>\n",
       "      <td>0.00</td>\n",
       "      <td>101.78</td>\n",
       "      <td>0.0</td>\n",
       "      <td>0</td>\n",
       "      <td>0</td>\n",
       "      <td>1</td>\n",
       "      <td>0</td>\n",
       "      <td>0</td>\n",
       "      <td>0</td>\n",
       "      <td>0</td>\n",
       "      <td>0</td>\n",
       "      <td>0</td>\n",
       "      <td>0</td>\n",
       "      <td>0</td>\n",
       "      <td>0</td>\n",
       "      <td>0</td>\n",
       "      <td>0</td>\n",
       "      <td>0</td>\n",
       "      <td>0</td>\n",
       "      <td>0</td>\n",
       "      <td>0</td>\n",
       "      <td>0</td>\n",
       "      <td>0</td>\n",
       "      <td>0</td>\n",
       "      <td>0</td>\n",
       "      <td>1</td>\n",
       "      <td>0</td>\n",
       "      <td>1</td>\n",
       "      <td>0</td>\n",
       "      <td>0</td>\n",
       "      <td>0</td>\n",
       "      <td>0</td>\n",
       "      <td>0</td>\n",
       "      <td>0</td>\n",
       "      <td>1</td>\n",
       "      <td>0</td>\n",
       "      <td>0</td>\n",
       "      <td>0</td>\n",
       "      <td>0</td>\n",
       "      <td>0</td>\n",
       "      <td>0</td>\n",
       "      <td>0</td>\n",
       "    </tr>\n",
       "    <tr>\n",
       "      <td>4</td>\n",
       "      <td>14000</td>\n",
       "      <td>14000</td>\n",
       "      <td>14000.0</td>\n",
       "      <td>60</td>\n",
       "      <td>17.49</td>\n",
       "      <td>351.64</td>\n",
       "      <td>5</td>\n",
       "      <td>50000.0</td>\n",
       "      <td>-0.220726</td>\n",
       "      <td>-0.266834</td>\n",
       "      <td>21.24</td>\n",
       "      <td>1</td>\n",
       "      <td>1</td>\n",
       "      <td>21.0</td>\n",
       "      <td>1</td>\n",
       "      <td>9</td>\n",
       "      <td>1</td>\n",
       "      <td>553</td>\n",
       "      <td>9.4</td>\n",
       "      <td>27</td>\n",
       "      <td>0.0</td>\n",
       "      <td>0.0</td>\n",
       "      <td>20804.230020</td>\n",
       "      <td>20804.23</td>\n",
       "      <td>14000.00</td>\n",
       "      <td>6804.23</td>\n",
       "      <td>0.0</td>\n",
       "      <td>0.00</td>\n",
       "      <td>0.00</td>\n",
       "      <td>3943.27</td>\n",
       "      <td>0.0</td>\n",
       "      <td>0</td>\n",
       "      <td>0</td>\n",
       "      <td>0</td>\n",
       "      <td>1</td>\n",
       "      <td>0</td>\n",
       "      <td>0</td>\n",
       "      <td>0</td>\n",
       "      <td>0</td>\n",
       "      <td>0</td>\n",
       "      <td>0</td>\n",
       "      <td>0</td>\n",
       "      <td>0</td>\n",
       "      <td>0</td>\n",
       "      <td>0</td>\n",
       "      <td>0</td>\n",
       "      <td>0</td>\n",
       "      <td>0</td>\n",
       "      <td>0</td>\n",
       "      <td>0</td>\n",
       "      <td>1</td>\n",
       "      <td>0</td>\n",
       "      <td>0</td>\n",
       "      <td>0</td>\n",
       "      <td>0</td>\n",
       "      <td>1</td>\n",
       "      <td>0</td>\n",
       "      <td>0</td>\n",
       "      <td>0</td>\n",
       "      <td>0</td>\n",
       "      <td>1</td>\n",
       "      <td>0</td>\n",
       "      <td>0</td>\n",
       "      <td>0</td>\n",
       "      <td>0</td>\n",
       "      <td>0</td>\n",
       "      <td>0</td>\n",
       "      <td>0</td>\n",
       "      <td>0</td>\n",
       "      <td>0</td>\n",
       "    </tr>\n",
       "    <tr>\n",
       "      <td>5</td>\n",
       "      <td>12000</td>\n",
       "      <td>12000</td>\n",
       "      <td>11900.0</td>\n",
       "      <td>36</td>\n",
       "      <td>8.94</td>\n",
       "      <td>381.26</td>\n",
       "      <td>7</td>\n",
       "      <td>294000.0</td>\n",
       "      <td>-0.086195</td>\n",
       "      <td>-0.125975</td>\n",
       "      <td>0.50</td>\n",
       "      <td>0</td>\n",
       "      <td>0</td>\n",
       "      <td>1000.0</td>\n",
       "      <td>0</td>\n",
       "      <td>11</td>\n",
       "      <td>0</td>\n",
       "      <td>5306</td>\n",
       "      <td>2.8</td>\n",
       "      <td>21</td>\n",
       "      <td>0.0</td>\n",
       "      <td>0.0</td>\n",
       "      <td>12344.811770</td>\n",
       "      <td>12241.94</td>\n",
       "      <td>12000.00</td>\n",
       "      <td>344.81</td>\n",
       "      <td>0.0</td>\n",
       "      <td>0.00</td>\n",
       "      <td>0.00</td>\n",
       "      <td>11204.30</td>\n",
       "      <td>0.0</td>\n",
       "      <td>1</td>\n",
       "      <td>0</td>\n",
       "      <td>0</td>\n",
       "      <td>0</td>\n",
       "      <td>0</td>\n",
       "      <td>0</td>\n",
       "      <td>0</td>\n",
       "      <td>0</td>\n",
       "      <td>0</td>\n",
       "      <td>0</td>\n",
       "      <td>0</td>\n",
       "      <td>0</td>\n",
       "      <td>0</td>\n",
       "      <td>0</td>\n",
       "      <td>0</td>\n",
       "      <td>0</td>\n",
       "      <td>0</td>\n",
       "      <td>0</td>\n",
       "      <td>0</td>\n",
       "      <td>1</td>\n",
       "      <td>0</td>\n",
       "      <td>0</td>\n",
       "      <td>0</td>\n",
       "      <td>0</td>\n",
       "      <td>1</td>\n",
       "      <td>0</td>\n",
       "      <td>0</td>\n",
       "      <td>0</td>\n",
       "      <td>0</td>\n",
       "      <td>0</td>\n",
       "      <td>0</td>\n",
       "      <td>0</td>\n",
       "      <td>0</td>\n",
       "      <td>0</td>\n",
       "      <td>1</td>\n",
       "      <td>0</td>\n",
       "      <td>0</td>\n",
       "      <td>0</td>\n",
       "      <td>0</td>\n",
       "    </tr>\n",
       "  </tbody>\n",
       "</table>\n",
       "</div>"
      ],
      "text/plain": [
       "   loan_amnt  funded_amnt  funded_amnt_inv  term  int_rate  installment  \\\n",
       "0      10000        10000           9950.0    36      7.51       311.11   \n",
       "1      15000        15000          14800.0    36      8.94       476.58   \n",
       "2       2000         2000           2000.0    36     13.57        67.94   \n",
       "4      14000        14000          14000.0    60     17.49       351.64   \n",
       "5      12000        12000          11900.0    36      8.94       381.26   \n",
       "\n",
       "   emp_length  annual_inc  zip_code  addr_state    dti  delinq_2yrs  \\\n",
       "0          10     30000.0 -0.125936   -0.153769   5.00            0   \n",
       "1           1    147000.0  0.183137   -0.037545   3.47            0   \n",
       "2           4     36000.0 -0.404649   -0.037545   7.83            0   \n",
       "4           5     50000.0 -0.220726   -0.266834  21.24            1   \n",
       "5           7    294000.0 -0.086195   -0.125975   0.50            0   \n",
       "\n",
       "   inq_last_6mths  mths_since_last_delinq  mths_since_last_record  open_acc  \\\n",
       "0               3                  1000.0                       0        19   \n",
       "1               0                  1000.0                       0         6   \n",
       "2               0                  1000.0                       0         8   \n",
       "4               1                    21.0                       1         9   \n",
       "5               0                  1000.0                       0        11   \n",
       "\n",
       "   pub_rec  revol_bal  revol_util  total_acc  out_prncp  out_prncp_inv  \\\n",
       "0        0       1450         1.2         48        0.0            0.0   \n",
       "1        0       4910        14.0         17        0.0            0.0   \n",
       "2        0       1790        34.4         10        0.0            0.0   \n",
       "4        1        553         9.4         27        0.0            0.0   \n",
       "5        0       5306         2.8         21        0.0            0.0   \n",
       "\n",
       "    total_pymnt  total_pymnt_inv  total_rec_prncp  total_rec_int  \\\n",
       "0   2247.210000          2235.98          1509.91         350.87   \n",
       "1  15112.760000         14911.26         15000.00         112.76   \n",
       "2   2354.966827          2354.97          2000.00         354.97   \n",
       "4  20804.230020         20804.23         14000.00        6804.23   \n",
       "5  12344.811770         12241.94         12000.00         344.81   \n",
       "\n",
       "   total_rec_late_fee  recoveries  collection_recovery_fee  last_pymnt_amnt  \\\n",
       "0                 0.0      386.43                     3.96           311.11   \n",
       "1                 0.0        0.00                     0.00         15114.03   \n",
       "2                 0.0        0.00                     0.00           101.78   \n",
       "4                 0.0        0.00                     0.00          3943.27   \n",
       "5                 0.0        0.00                     0.00         11204.30   \n",
       "\n",
       "   pub_rec_bankruptcies  grade_A  grade_B  grade_C  grade_D  grade_E1  \\\n",
       "0                   0.0        1        0        0        0         0   \n",
       "1                   0.0        1        0        0        0         0   \n",
       "2                   0.0        0        0        1        0         0   \n",
       "4                   0.0        0        0        0        1         0   \n",
       "5                   0.0        1        0        0        0         0   \n",
       "\n",
       "   grade_E2  grade_E3  grade_E4  grade_E5  grade_F1  grade_F2  grade_F3  \\\n",
       "0         0         0         0         0         0         0         0   \n",
       "1         0         0         0         0         0         0         0   \n",
       "2         0         0         0         0         0         0         0   \n",
       "4         0         0         0         0         0         0         0   \n",
       "5         0         0         0         0         0         0         0   \n",
       "\n",
       "   grade_F4  grade_F5  grade_G1  grade_G2  grade_G3  grade_G4  grade_G5  \\\n",
       "0         0         0         0         0         0         0         0   \n",
       "1         0         0         0         0         0         0         0   \n",
       "2         0         0         0         0         0         0         0   \n",
       "4         0         0         0         0         0         0         0   \n",
       "5         0         0         0         0         0         0         0   \n",
       "\n",
       "   home_ownership_MORTGAGE  home_ownership_NONE  home_ownership_OTHER  \\\n",
       "0                        0                    0                     0   \n",
       "1                        0                    0                     0   \n",
       "2                        0                    0                     0   \n",
       "4                        1                    0                     0   \n",
       "5                        1                    0                     0   \n",
       "\n",
       "   home_ownership_OWN  home_ownership_RENT  verification_status_Not Verified  \\\n",
       "0                   0                    1                                 0   \n",
       "1                   0                    1                                 1   \n",
       "2                   1                    0                                 1   \n",
       "4                   0                    0                                 1   \n",
       "5                   0                    0                                 1   \n",
       "\n",
       "   verification_status_Source Verified  verification_status_Verified  \\\n",
       "0                                    1                             0   \n",
       "1                                    0                             0   \n",
       "2                                    0                             0   \n",
       "4                                    0                             0   \n",
       "5                                    0                             0   \n",
       "\n",
       "   purpose_car  purpose_credit_card  purpose_debt_consolidation  \\\n",
       "0            0                    0                           0   \n",
       "1            0                    0                           0   \n",
       "2            0                    0                           0   \n",
       "4            0                    0                           1   \n",
       "5            0                    0                           0   \n",
       "\n",
       "   purpose_home_improvement  purpose_major_purchase  purpose_medical  \\\n",
       "0                         1                       0                0   \n",
       "1                         0                       0                0   \n",
       "2                         0                       1                0   \n",
       "4                         0                       0                0   \n",
       "5                         0                       0                0   \n",
       "\n",
       "   purpose_moving  purpose_other  purpose_rare_purpose  \\\n",
       "0               0              0                     0   \n",
       "1               0              1                     0   \n",
       "2               0              0                     0   \n",
       "4               0              0                     0   \n",
       "5               0              1                     0   \n",
       "\n",
       "   purpose_small_business  purpose_vacation  purpose_wedding  \n",
       "0                       0                 0                0  \n",
       "1                       0                 0                0  \n",
       "2                       0                 0                0  \n",
       "4                       0                 0                0  \n",
       "5                       0                 0                0  "
      ]
     },
     "execution_count": 8,
     "metadata": {},
     "output_type": "execute_result"
    }
   ],
   "source": [
    "train_df.head()"
   ]
  },
  {
   "cell_type": "markdown",
   "metadata": {},
   "source": [
    "Grid Search to get the hyperparameters for the sklearn Gradient Boosting Classifier:"
   ]
  },
  {
   "cell_type": "code",
   "execution_count": 9,
   "metadata": {},
   "outputs": [
    {
     "data": {
      "text/plain": [
       "GridSearchCV(cv=5, error_score='raise-deprecating',\n",
       "             estimator=GradientBoostingClassifier(criterion='friedman_mse',\n",
       "                                                  init=None, learning_rate=0.2,\n",
       "                                                  loss='deviance', max_depth=3,\n",
       "                                                  max_features='sqrt',\n",
       "                                                  max_leaf_nodes=None,\n",
       "                                                  min_impurity_decrease=0.0,\n",
       "                                                  min_impurity_split=None,\n",
       "                                                  min_samples_leaf=50,\n",
       "                                                  min_samples_split=2,\n",
       "                                                  min_weight_fraction_leaf=0.0,\n",
       "                                                  n_estimators=100,\n",
       "                                                  n_iter_no_change=None,\n",
       "                                                  presort='auto',\n",
       "                                                  random_state=0, subsample=0.8,\n",
       "                                                  tol=0.0001,\n",
       "                                                  validation_fraction=0.1,\n",
       "                                                  verbose=0, warm_start=False),\n",
       "             iid=False, n_jobs=-1,\n",
       "             param_grid={'max_depth': range(5, 16, 2),\n",
       "                         'min_samples_split': array([ 200,  400,  600,  800, 1000])},\n",
       "             pre_dispatch='2*n_jobs', refit=True, return_train_score=False,\n",
       "             scoring='accuracy', verbose=0)"
      ]
     },
     "execution_count": 9,
     "metadata": {},
     "output_type": "execute_result"
    }
   ],
   "source": [
    "# Starting with 100 estimators, searching for tree parmaters with most impact,\n",
    "# firstly min_samples_split and max_depth\n",
    "params_estimators = {'min_samples_split':np.linspace(200,1000,5,dtype=int), 'max_depth':range(5,16,2)}\n",
    "gs_max_depth_min_samp_split = GridSearchCV(estimator = GradientBoostingClassifier(\n",
    "    n_estimators=100, learning_rate=0.2, min_samples_leaf=50,\n",
    "    max_features='sqrt',subsample=0.8,random_state=0\n",
    "), \n",
    "param_grid = params_estimators, scoring='accuracy',n_jobs=-1,iid=False, cv=5)\n",
    "gs_max_depth_min_samp_split.fit(train_df, y_train)"
   ]
  },
  {
   "cell_type": "code",
   "execution_count": 11,
   "metadata": {},
   "outputs": [
    {
     "data": {
      "text/plain": [
       "({'max_depth': 9, 'min_samples_split': 1000}, 0.9960906788423038)"
      ]
     },
     "execution_count": 11,
     "metadata": {},
     "output_type": "execute_result"
    }
   ],
   "source": [
    "gs_max_depth_min_samp_split.best_params_, gs_max_depth_min_samp_split.best_score_"
   ]
  },
  {
   "cell_type": "code",
   "execution_count": 16,
   "metadata": {},
   "outputs": [
    {
     "data": {
      "text/plain": [
       "0.9960072849537686"
      ]
     },
     "execution_count": 16,
     "metadata": {},
     "output_type": "execute_result"
    }
   ],
   "source": [
    "np.mean(gs_max_depth_min_samp_split.predict(test_df)==y_test)"
   ]
  },
  {
   "cell_type": "code",
   "execution_count": 17,
   "metadata": {},
   "outputs": [
    {
     "data": {
      "text/plain": [
       "GridSearchCV(cv=5, error_score='raise-deprecating',\n",
       "             estimator=GradientBoostingClassifier(criterion='friedman_mse',\n",
       "                                                  init=None, learning_rate=0.2,\n",
       "                                                  loss='deviance', max_depth=9,\n",
       "                                                  max_features='sqrt',\n",
       "                                                  max_leaf_nodes=None,\n",
       "                                                  min_impurity_decrease=0.0,\n",
       "                                                  min_impurity_split=None,\n",
       "                                                  min_samples_leaf=1,\n",
       "                                                  min_samples_split=2,\n",
       "                                                  min_weight_fraction_leaf=0.0,\n",
       "                                                  n_estimators=100,\n",
       "                                                  n_iter_no_change=None,\n",
       "                                                  presort='auto',\n",
       "                                                  random_state=0, subsample=0.8,\n",
       "                                                  tol=0.0001,\n",
       "                                                  validation_fraction=0.1,\n",
       "                                                  verbose=0, warm_start=False),\n",
       "             iid=False, n_jobs=-1,\n",
       "             param_grid={'min_samples_leaf': range(40, 81, 10),\n",
       "                         'min_samples_split': array([1000, 1250, 1500, 1750, 2000])},\n",
       "             pre_dispatch='2*n_jobs', refit=True, return_train_score=False,\n",
       "             scoring='accuracy', verbose=0)"
      ]
     },
     "execution_count": 17,
     "metadata": {},
     "output_type": "execute_result"
    }
   ],
   "source": [
    "# As min_samples_split reached the highest values in the above search, continuing search for higher values along with \n",
    "# search for min_samples_leaf\n",
    "params_estimators = {'min_samples_split':np.linspace(1000,2000,5,dtype=int),\n",
    "                     'min_samples_leaf':range(40,81,10)}\n",
    "gs_min_samp_split_samples_leaf = GridSearchCV(\n",
    "    estimator = GradientBoostingClassifier(\n",
    "        n_estimators=100, learning_rate=0.2, max_depth=9,\n",
    "        max_features='sqrt',subsample=0.8,random_state=0\n",
    "), \n",
    "param_grid = params_estimators, scoring='accuracy',n_jobs=-1,iid=False, cv=5)\n",
    "gs_min_samp_split_samples_leaf.fit(train_df, y_train)"
   ]
  },
  {
   "cell_type": "code",
   "execution_count": 18,
   "metadata": {},
   "outputs": [
    {
     "data": {
      "text/plain": [
       "({'min_samples_leaf': 50, 'min_samples_split': 1750}, 0.996214084827162)"
      ]
     },
     "execution_count": 18,
     "metadata": {},
     "output_type": "execute_result"
    }
   ],
   "source": [
    "gs_min_samp_split_samples_leaf.best_params_, gs_min_samp_split_samples_leaf.best_score_"
   ]
  },
  {
   "cell_type": "code",
   "execution_count": 19,
   "metadata": {},
   "outputs": [
    {
     "data": {
      "text/plain": [
       "0.9958671896889885"
      ]
     },
     "execution_count": 19,
     "metadata": {},
     "output_type": "execute_result"
    }
   ],
   "source": [
    "np.mean(gs_min_samp_split_samples_leaf.predict(test_df)==y_test)"
   ]
  },
  {
   "cell_type": "code",
   "execution_count": 20,
   "metadata": {},
   "outputs": [
    {
     "data": {
      "text/plain": [
       "GridSearchCV(cv=5, error_score='raise-deprecating',\n",
       "             estimator=GradientBoostingClassifier(criterion='friedman_mse',\n",
       "                                                  init=None, learning_rate=0.2,\n",
       "                                                  loss='deviance', max_depth=9,\n",
       "                                                  max_features=None,\n",
       "                                                  max_leaf_nodes=None,\n",
       "                                                  min_impurity_decrease=0.0,\n",
       "                                                  min_impurity_split=None,\n",
       "                                                  min_samples_leaf=50,\n",
       "                                                  min_samples_split=1750,\n",
       "                                                  min_weight_fraction_leaf=0.0,\n",
       "                                                  n_estimators=100,\n",
       "                                                  n_iter_no_change=None,\n",
       "                                                  presort='auto',\n",
       "                                                  random_state=0, subsample=0.8,\n",
       "                                                  tol=0.0001,\n",
       "                                                  validation_fraction=0.1,\n",
       "                                                  verbose=0, warm_start=False),\n",
       "             iid=False, n_jobs=-1,\n",
       "             param_grid={'max_features': array([ 8, 11, 14, 17, 21, 24, 27, 30, 34, 37, 40, 43, 47, 50, 53, 56, 60,\n",
       "       63, 66, 70])},\n",
       "             pre_dispatch='2*n_jobs', refit=True, return_train_score=False,\n",
       "             scoring='accuracy', verbose=0)"
      ]
     },
     "execution_count": 20,
     "metadata": {},
     "output_type": "execute_result"
    }
   ],
   "source": [
    "# With the above values obtained, now searching for max_features for the tree\n",
    "params_estimators = {'max_features': np.linspace(8, 70, 20, dtype=int)}\n",
    "gs_max_features = GridSearchCV(estimator = GradientBoostingClassifier(\n",
    "    n_estimators=100, learning_rate=0.2,min_samples_split=1750,min_samples_leaf=50,max_depth=9,\n",
    "    subsample=0.8,random_state=0\n",
    "), \n",
    "param_grid = params_estimators, scoring='accuracy',n_jobs=-1,iid=False, cv=5)\n",
    "gs_max_features.fit(train_df, y_train)"
   ]
  },
  {
   "cell_type": "code",
   "execution_count": 21,
   "metadata": {},
   "outputs": [
    {
     "data": {
      "text/plain": [
       "({'max_features': 56}, 0.9971194177072196)"
      ]
     },
     "execution_count": 21,
     "metadata": {},
     "output_type": "execute_result"
    }
   ],
   "source": [
    "gs_max_features.best_params_, gs_max_features.best_score_"
   ]
  },
  {
   "cell_type": "code",
   "execution_count": 22,
   "metadata": {},
   "outputs": [
    {
     "data": {
      "text/plain": [
       "0.9968478565424489"
      ]
     },
     "execution_count": 22,
     "metadata": {},
     "output_type": "execute_result"
    }
   ],
   "source": [
    "np.mean(gs_max_features.predict(test_df)==y_test)"
   ]
  },
  {
   "cell_type": "code",
   "execution_count": 23,
   "metadata": {},
   "outputs": [
    {
     "data": {
      "text/plain": [
       "[({'max_features': 8}, 0.996214084827162),\n",
       " ({'max_features': 11}, 0.996255270964198),\n",
       " ({'max_features': 14}, 0.9962141187008235),\n",
       " ({'max_features': 17}, 0.9966256667528818),\n",
       " ({'max_features': 21}, 0.9966256413450221),\n",
       " ({'max_features': 24}, 0.9967902419327179),\n",
       " ({'max_features': 27}, 0.9969548255888101),\n",
       " ({'max_features': 30}, 0.9969960117223617),\n",
       " ({'max_features': 34}, 0.9969548171195235),\n",
       " ({'max_features': 37}, 0.997078299314022),\n",
       " ({'max_features': 40}, 0.9969548255853254),\n",
       " ({'max_features': 43}, 0.996913673321951),\n",
       " ({'max_features': 47}, 0.9969548425204142),\n",
       " ({'max_features': 50}, 0.9969959863249557),\n",
       " ({'max_features': 53}, 0.9970782739166163),\n",
       " ({'max_features': 56}, 0.9971194177072196),\n",
       " ({'max_features': 60}, 0.9970371385848456),\n",
       " ({'max_features': 63}, 0.9970371301120744),\n",
       " ({'max_features': 66}, 0.9969136902605242),\n",
       " ({'max_features': 70}, 0.997037121649757)]"
      ]
     },
     "execution_count": 23,
     "metadata": {},
     "output_type": "execute_result"
    }
   ],
   "source": [
    "list(zip(gs_max_features.cv_results_['params'], gs_max_features.cv_results_['mean_test_score']))"
   ]
  },
  {
   "cell_type": "code",
   "execution_count": 24,
   "metadata": {},
   "outputs": [
    {
     "data": {
      "text/plain": [
       "GridSearchCV(cv=5, error_score='raise-deprecating',\n",
       "             estimator=GradientBoostingClassifier(criterion='friedman_mse',\n",
       "                                                  init=None, learning_rate=0.2,\n",
       "                                                  loss='deviance', max_depth=9,\n",
       "                                                  max_features=37,\n",
       "                                                  max_leaf_nodes=None,\n",
       "                                                  min_impurity_decrease=0.0,\n",
       "                                                  min_impurity_split=None,\n",
       "                                                  min_samples_leaf=50,\n",
       "                                                  min_samples_split=1750,\n",
       "                                                  min_weight_fraction_leaf=0.0,\n",
       "                                                  n_estimators=100,\n",
       "                                                  n_iter_no_change=None,\n",
       "                                                  presort='auto',\n",
       "                                                  random_state=0, subsample=1.0,\n",
       "                                                  tol=0.0001,\n",
       "                                                  validation_fraction=0.1,\n",
       "                                                  verbose=0, warm_start=False),\n",
       "             iid=False, n_jobs=-1,\n",
       "             param_grid={'subsample': [0.7, 0.75, 0.8, 0.85, 0.9, 1.0]},\n",
       "             pre_dispatch='2*n_jobs', refit=True, return_train_score=False,\n",
       "             scoring='accuracy', verbose=0)"
      ]
     },
     "execution_count": 24,
     "metadata": {},
     "output_type": "execute_result"
    }
   ],
   "source": [
    "# max_features 37 and 56 give best results, taking 37 and now searching for subsample parameter\n",
    "params_estimators = {'subsample':[0.7,0.75,0.8,0.85,0.9, 1.0]}\n",
    "gs_subsample = GridSearchCV(estimator = GradientBoostingClassifier(\n",
    "    n_estimators=100, learning_rate=0.2,min_samples_split=1750,min_samples_leaf=50,max_depth=9,\n",
    "    max_features=37,random_state=0\n",
    "), \n",
    "param_grid = params_estimators, scoring='accuracy',n_jobs=-1,iid=False, cv=5)\n",
    "gs_subsample.fit(train_df, y_train)"
   ]
  },
  {
   "cell_type": "code",
   "execution_count": 25,
   "metadata": {},
   "outputs": [
    {
     "data": {
      "text/plain": [
       "0.997408237601569"
      ]
     },
     "execution_count": 25,
     "metadata": {},
     "output_type": "execute_result"
    }
   ],
   "source": [
    "np.mean(gs_subsample.predict(test_df)==y_test)"
   ]
  },
  {
   "cell_type": "code",
   "execution_count": 26,
   "metadata": {},
   "outputs": [
    {
     "data": {
      "text/plain": [
       "({'subsample': 1.0}, 0.9974897965573302)"
      ]
     },
     "execution_count": 26,
     "metadata": {},
     "output_type": "execute_result"
    }
   ],
   "source": [
    "gs_subsample.best_params_, gs_subsample.best_score_"
   ]
  },
  {
   "cell_type": "code",
   "execution_count": 27,
   "metadata": {},
   "outputs": [
    {
     "data": {
      "text/plain": [
       "[({'subsample': 0.7}, 0.9969960032530751),\n",
       " ({'subsample': 0.75}, 0.9968725295313478),\n",
       " ({'subsample': 0.8}, 0.997078299314022),\n",
       " ({'subsample': 0.85}, 0.9969136648561492),\n",
       " ({'subsample': 0.9}, 0.9972017645769167),\n",
       " ({'subsample': 1.0}, 0.9974897965573302)]"
      ]
     },
     "execution_count": 27,
     "metadata": {},
     "output_type": "execute_result"
    }
   ],
   "source": [
    "list(zip(gs_subsample.cv_results_['params'], gs_subsample.cv_results_['mean_test_score']))"
   ]
  },
  {
   "cell_type": "code",
   "execution_count": 28,
   "metadata": {},
   "outputs": [
    {
     "name": "stdout",
     "output_type": "stream",
     "text": [
      "gbm training time: 54.44065475463867\n"
     ]
    }
   ],
   "source": [
    "# Now we have all the parameter except the n_estimators which we can increase and see if the accuracy increases \n",
    "start_time = time.time()\n",
    "gbm = GradientBoostingClassifier(\n",
    "    n_estimators=500, learning_rate=0.1, min_samples_split=1750,min_samples_leaf=50,max_depth=9,\n",
    "    max_features=37,subsample=1,random_state=0\n",
    ")\n",
    "gbm.fit(train_df, y_train)\n",
    "print(\"gbm training time: {0}\".format(time.time()-start_time))"
   ]
  },
  {
   "cell_type": "code",
   "execution_count": 29,
   "metadata": {},
   "outputs": [
    {
     "data": {
      "text/plain": [
       "0.9975483328663491"
      ]
     },
     "execution_count": 29,
     "metadata": {},
     "output_type": "execute_result"
    }
   ],
   "source": [
    "np.mean(y_test==gbm.predict(test_df))"
   ]
  },
  {
   "cell_type": "code",
   "execution_count": 30,
   "metadata": {},
   "outputs": [
    {
     "name": "stdout",
     "output_type": "stream",
     "text": [
      "gbm training time: 102.4101140499115\n"
     ]
    }
   ],
   "source": [
    "start_time = time.time()\n",
    "gbm = GradientBoostingClassifier(\n",
    "    n_estimators=1000, learning_rate=0.05, min_samples_split=1750,min_samples_leaf=50,max_depth=9,\n",
    "    max_features=37,subsample=1,random_state=0\n",
    ")\n",
    "gbm.fit(train_df, y_train)\n",
    "print(\"gbm training time: {0}\".format(time.time()-start_time))"
   ]
  },
  {
   "cell_type": "code",
   "execution_count": 32,
   "metadata": {},
   "outputs": [
    {
     "data": {
      "text/plain": [
       "0.9976884281311291"
      ]
     },
     "execution_count": 32,
     "metadata": {},
     "output_type": "execute_result"
    }
   ],
   "source": [
    "np.mean(y_test==gbm.predict(test_df))"
   ]
  },
  {
   "cell_type": "code",
   "execution_count": 34,
   "metadata": {},
   "outputs": [
    {
     "name": "stdout",
     "output_type": "stream",
     "text": [
      "gbm training time: 28.668821573257446\n"
     ]
    }
   ],
   "source": [
    "# Checking randomly if some parmeter changes improve the accuracy\n",
    "start_time = time.time()\n",
    "gbm = GradientBoostingClassifier(\n",
    "    n_estimators=1000, learning_rate=0.3, min_samples_split=200,min_samples_leaf=50,max_depth=5,\n",
    "    max_features='auto',subsample=1,random_state=0\n",
    ")\n",
    "gbm.fit(train_df, y_train)\n",
    "print(\"gbm training time: {0}\".format(time.time()-start_time))"
   ]
  },
  {
   "cell_type": "code",
   "execution_count": 35,
   "metadata": {},
   "outputs": [
    {
     "data": {
      "text/plain": [
       "0.9979686186606893"
      ]
     },
     "execution_count": 35,
     "metadata": {},
     "output_type": "execute_result"
    }
   ],
   "source": [
    "# The highest accuracy obtained with the parameters in the above cell\n",
    "np.mean(y_test==gbm.predict(test_df))"
   ]
  },
  {
   "cell_type": "markdown",
   "metadata": {},
   "source": [
    "Feature Importance:"
   ]
  },
  {
   "cell_type": "code",
   "execution_count": 36,
   "metadata": {},
   "outputs": [],
   "source": [
    "predictors = train_df.columns\n",
    "feat_imp = pd.Series(gbm.feature_importances_, predictors).sort_values(ascending=False)"
   ]
  },
  {
   "cell_type": "code",
   "execution_count": 40,
   "metadata": {},
   "outputs": [
    {
     "data": {
      "text/plain": [
       "<BarContainer object of 15 artists>"
      ]
     },
     "execution_count": 40,
     "metadata": {},
     "output_type": "execute_result"
    },
    {
     "data": {
      "image/png": "[encoded data removed]",
      "text/plain": [
       "<Figure size 1080x432 with 1 Axes>"
      ]
     },
     "metadata": {
      "needs_background": "light"
     },
     "output_type": "display_data"
    }
   ],
   "source": [
    "plt.figure(figsize=(15,6))\n",
    "plt.xticks(rotation=\"vertical\")\n",
    "plt.bar(feat_imp.index[:15], feat_imp.values[:15])"
   ]
  },
  {
   "cell_type": "code",
   "execution_count": 41,
   "metadata": {},
   "outputs": [
    {
     "data": {
      "text/plain": [
       "<BarContainer object of 20 artists>"
      ]
     },
     "execution_count": 41,
     "metadata": {},
     "output_type": "execute_result"
    },
    {
     "data": {
      "image/png": "[encoded data removed]",
      "text/plain": [
       "<Figure size 1080x432 with 1 Axes>"
      ]
     },
     "metadata": {
      "needs_background": "light"
     },
     "output_type": "display_data"
    }
   ],
   "source": [
    "plt.figure(figsize=(15,6))\n",
    "plt.xticks(rotation=\"vertical\")\n",
    "plt.bar(feat_imp.index[15:35], feat_imp.values[15:35])"
   ]
  },
  {
   "cell_type": "code",
   "execution_count": null,
   "metadata": {},
   "outputs": [],
   "source": [
    "# temp = pd.DataFrame(train_df['purpose'].value_counts())\n",
    "# temp['class_percent'] = train_df_non_cur.groupby('purpose')['loan_status'].apply(np.mean)\n",
    "# temp.sort_values(by='class_percent')\n",
    "# temp"
   ]
  },
  {
   "cell_type": "code",
   "execution_count": null,
   "metadata": {},
   "outputs": [],
   "source": [
    "# sub_grade_mean = train_df_non_cur.groupby('sub_grade')['loan_status'].apply(np.mean)\n",
    "# plt.plot(range(len(sub_grade_mean)), sub_grade_mean)"
   ]
  },
  {
   "cell_type": "code",
   "execution_count": null,
   "metadata": {},
   "outputs": [],
   "source": [
    "# grade_mean = train_df_non_cur.groupby('grade')['loan_status'].apply(np.mean)\n",
    "# # plt.plot(range(len(grade_mean)), grade_mean)\n",
    "# grade_mean"
   ]
  },
  {
   "cell_type": "code",
   "execution_count": null,
   "metadata": {},
   "outputs": [],
   "source": [
    "# mths_delinq = train_df_non_cur.groupby('mths_since_last_delinq')['loan_status'].apply(np.mean)\n",
    "# mths_delinq_idx = mths_delinq.index\n",
    "# mths_delinq_vals = mths_delinq.values\n",
    "# plt.plot(mths_delinq_idx, mths_delinq_vals)"
   ]
  },
  {
   "cell_type": "code",
   "execution_count": null,
   "metadata": {},
   "outputs": [],
   "source": [
    "# train_df_non_cur.loc[train_df_non_cur['mths_since_last_delinq'].isna(), 'loan_status'].mean()"
   ]
  },
  {
   "cell_type": "code",
   "execution_count": null,
   "metadata": {},
   "outputs": [],
   "source": [
    "# temp = pd.DataFrame(train_df['mths_since_last_delinq'])\n",
    "# temp = temp.groupby('mths_since_last_delinq')['mths_since_last_delinq'].apply(lambda x: x.count())\n",
    "# # print(temp.index)\n",
    "# temp.values.sum()"
   ]
  }
 ],
 "metadata": {
  "kernelspec": {
   "display_name": "Python 3",
   "language": "python",
   "name": "python3"
  },
  "language_info": {
   "codemirror_mode": {
    "name": "ipython",
    "version": 3
   },
   "file_extension": ".py",
   "mimetype": "text/x-python",
   "name": "python",
   "nbconvert_exporter": "python",
   "pygments_lexer": "ipython3",
   "version": "3.7.3"
  }
 },
 "nbformat": 4,
 "nbformat_minor": 4
}
